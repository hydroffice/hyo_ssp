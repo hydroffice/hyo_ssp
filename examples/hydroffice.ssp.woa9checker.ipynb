{
 "cells": [
  {
   "cell_type": "markdown",
   "metadata": {},
   "source": [
    "# hydroffice.ssp.atlases.woa09checker\n",
    "\n",
    "A class that checks the presence of the WOA09 database. If not present, the class is able to download it."
   ]
  },
  {
   "cell_type": "code",
   "execution_count": 1,
   "metadata": {
    "collapsed": false
   },
   "outputs": [],
   "source": [
    "import sys\n",
    "try:\n",
    "    input = raw_input\n",
    "except NameError: #Python 3\n",
    "    pass\n",
    "from hydroffice.ssp.atlases.woa09checker import Woa09Checker\n",
    "\n",
    "if Woa09Checker.is_present():\n",
    "    print(\"WOA09 present\")\n",
    "    sys.exit(0)"
   ]
  },
  {
   "cell_type": "code",
   "execution_count": 2,
   "metadata": {
    "collapsed": false
   },
   "outputs": [
    {
     "name": "stdout",
     "output_type": "stream",
     "text": [
      "download it (y/n)?  y\n"
     ]
    }
   ],
   "source": [
    "ans = input(\"download it (y/n)?  \")\n"
   ]
  },
  {
   "cell_type": "code",
   "execution_count": 3,
   "metadata": {
    "collapsed": false
   },
   "outputs": [
    {
     "name": "stderr",
     "output_type": "stream",
     "text": [
      "ERROR:hydroffice.ssp.atlases.woa09checker:during WOA09 download and unzip: [Errno 10060] A connection attempt failed because the connected party did not properly respond after a period of time, or established connection failed because connected host has failed to respond\n"
     ]
    },
    {
     "name": "stdout",
     "output_type": "stream",
     "text": [
      "downloading\n",
      "issues\n"
     ]
    }
   ],
   "source": [
    "ans.lower()\n",
    "if ans == \"y\" or ans == \"yes\":\n",
    "    print(\"downloading\")\n",
    "    chk = Woa09Checker()\n",
    "    if chk.present:\n",
    "        print(\"downloaded\")\n",
    "    else:\n",
    "        print(\"issues\")\n",
    "else:\n",
    "    print(\"exiting\")"
   ]
  },
  {
   "cell_type": "markdown",
   "metadata": {},
   "source": [
    "-----------"
   ]
  }
 ],
 "metadata": {
  "kernelspec": {
   "display_name": "Python 2",
   "language": "python",
   "name": "python2"
  },
  "language_info": {
   "codemirror_mode": {
    "name": "ipython",
    "version": 2
   },
   "file_extension": ".py",
   "mimetype": "text/x-python",
   "name": "python",
   "nbconvert_exporter": "python",
   "pygments_lexer": "ipython2",
   "version": "2.7.10"
  }
 },
 "nbformat": 4,
 "nbformat_minor": 0
}
