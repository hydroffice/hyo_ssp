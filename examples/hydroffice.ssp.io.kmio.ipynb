{
 "cells": [
  {
   "cell_type": "markdown",
   "metadata": {},
   "source": [
    "# hydroffice.ssp.io.kmio"
   ]
  },
  {
   "cell_type": "code",
   "execution_count": 1,
   "metadata": {
    "collapsed": true
   },
   "outputs": [],
   "source": [
    "from __future__ import absolute_import, division, print_function, unicode_literals\n",
    "\n",
    "import logging\n",
    "import time"
   ]
  },
  {
   "cell_type": "code",
   "execution_count": 2,
   "metadata": {
    "collapsed": true
   },
   "outputs": [],
   "source": [
    "log = logging.getLogger(__name__)\n",
    "\n",
    "# logging settings\n",
    "logger = logging.getLogger()\n",
    "logger.setLevel(logging.NOTSET)\n",
    "ch = logging.StreamHandler()\n",
    "ch.setLevel(logging.WARNING)  # change to WARNING to reduce verbosity, DEBUG for high verbosity\n",
    "ch_formatter = logging.Formatter('%(levelname)-9s %(name)s.%(funcName)s:%(lineno)d > %(message)s')\n",
    "ch.setFormatter(ch_formatter)\n",
    "logger.addHandler(ch)"
   ]
  },
  {
   "cell_type": "code",
   "execution_count": 3,
   "metadata": {
    "collapsed": true
   },
   "outputs": [],
   "source": [
    "from hydroffice.ssp.io.kmio import KmIO"
   ]
  },
  {
   "cell_type": "code",
   "execution_count": 4,
   "metadata": {
    "collapsed": false
   },
   "outputs": [],
   "source": [
    "km_listener = KmIO(3500, [0x50, 0x52, 0x55, 0x58], 1)"
   ]
  },
  {
   "cell_type": "code",
   "execution_count": 5,
   "metadata": {
    "collapsed": false
   },
   "outputs": [
    {
     "name": "stderr",
     "output_type": "stream",
     "text": [
      "INFO:hydroffice.ssp.io.kmio:Requesting SVP from sensor 710\n",
      "INFO:hydroffice.ssp.io.kmio:Requesting SVP from sensor 122\n",
      "INFO:hydroffice.ssp.io.kmio:Requesting SVP from sensor 302\n",
      "INFO:hydroffice.ssp.io.kmio:Requesting SVP from sensor 3020\n",
      "INFO:hydroffice.ssp.io.kmio:Requesting SVP from sensor 2040\n",
      "INFO:hydroffice.ssp.io.udpio:starting listen thread\n",
      "INFO:hydroffice.ssp.io.udpio:started listen thread\n",
      "INFO:hydroffice.ssp.io.udpio:going to listen on port 3500 for datagrams [80, 82, 85, 88]\n",
      "INFO:hydroffice.ssp.io.kmio:('192.168.1.22', 4794) > DG 110/0x6e/n [Network Attitude Velocity] > sz: 1.5 KB\n",
      "INFO:hydroffice.ssp.io.kmio:('192.168.1.22', 4794) > DG 110/0x6e/n [Network Attitude Velocity] > sz: 1.5 KB\n",
      "INFO:hydroffice.ssp.io.kmio:('192.168.1.22', 4794) > DG 110/0x6e/n [Network Attitude Velocity] > sz: 1.5 KB\n",
      "INFO:hydroffice.ssp.io.kmio:('192.168.1.22', 4794) > DG 110/0x6e/n [Network Attitude Velocity] > sz: 1.5 KB\n",
      "INFO:hydroffice.ssp.io.kmio:('192.168.1.22', 4794) > DG 48/0x30/0 [PU Id output] > sz: 0.1 KB\n",
      "INFO:hydroffice.ssp.io.kmio:('192.168.1.22', 4794) > DG 49/0x31/1 [PU Status] > sz: 0.1 KB\n",
      "INFO:hydroffice.ssp.io.kmio:('192.168.1.22', 4794) > DG 65/0x41/A [Attitude] > sz: 1.2 KB\n",
      "INFO:hydroffice.ssp.io.kmio:('192.168.1.22', 4794) > DG 80/0x50/P [Position] > sz: 0.1 KB\n",
      "INFO:hydroffice.ssp.io.kmio:('192.168.1.22', 4794) > DG 110/0x6e/n [Network Attitude Velocity] > sz: 1.5 KB\n",
      "INFO:hydroffice.ssp.io.kmio:('192.168.1.22', 4794) > DG 67/0x43/C [Clock] > sz: 0.0 KB\n",
      "INFO:hydroffice.ssp.io.kmio:('192.168.1.22', 4794) > DG 110/0x6e/n [Network Attitude Velocity] > sz: 1.5 KB\n",
      "INFO:hydroffice.ssp.io.kmio:('192.168.1.22', 4794) > DG 110/0x6e/n [Network Attitude Velocity] > sz: 1.5 KB\n",
      "INFO:hydroffice.ssp.io.kmio:('192.168.1.22', 4794) > DG 110/0x6e/n [Network Attitude Velocity] > sz: 1.5 KB\n",
      "INFO:hydroffice.ssp.io.kmio:('192.168.1.22', 4794) > DG 110/0x6e/n [Network Attitude Velocity] > sz: 1.5 KB\n",
      "INFO:hydroffice.ssp.io.kmio:('192.168.1.22', 4794) > DG 80/0x50/P [Position] > sz: 0.1 KB\n",
      "INFO:hydroffice.ssp.io.kmio:('192.168.1.22', 4794) > DG 110/0x6e/n [Network Attitude Velocity] > sz: 1.5 KB\n",
      "INFO:hydroffice.ssp.io.kmio:('192.168.1.22', 4794) > DG 110/0x6e/n [Network Attitude Velocity] > sz: 1.5 KB\n",
      "INFO:hydroffice.ssp.io.kmio:('192.168.1.22', 4794) > DG 110/0x6e/n [Network Attitude Velocity] > sz: 1.5 KB\n",
      "INFO:hydroffice.ssp.io.kmio:('192.168.1.22', 4794) > DG 110/0x6e/n [Network Attitude Velocity] > sz: 1.5 KB\n",
      "INFO:hydroffice.ssp.io.kmio:('192.168.1.22', 4794) > DG 110/0x6e/n [Network Attitude Velocity] > sz: 1.5 KB\n",
      "INFO:hydroffice.ssp.io.kmio:('192.168.1.22', 4794) > DG 48/0x30/0 [PU Id output] > sz: 0.1 KB\n",
      "INFO:hydroffice.ssp.io.kmio:('192.168.1.22', 4794) > DG 49/0x31/1 [PU Status] > sz: 0.1 KB\n",
      "INFO:hydroffice.ssp.io.kmio:('192.168.1.22', 4794) > DG 65/0x41/A [Attitude] > sz: 1.2 KB\n",
      "INFO:hydroffice.ssp.io.kmio:('192.168.1.22', 4794) > DG 80/0x50/P [Position] > sz: 0.1 KB\n",
      "INFO:hydroffice.ssp.io.kmio:('192.168.1.22', 4794) > DG 110/0x6e/n [Network Attitude Velocity] > sz: 1.5 KB\n",
      "INFO:hydroffice.ssp.io.kmio:('192.168.1.22', 4794) > DG 67/0x43/C [Clock] > sz: 0.0 KB\n",
      "INFO:hydroffice.ssp.io.kmio:('192.168.1.22', 4794) > DG 110/0x6e/n [Network Attitude Velocity] > sz: 1.5 KB\n",
      "INFO:hydroffice.ssp.io.kmio:('192.168.1.22', 4794) > DG 110/0x6e/n [Network Attitude Velocity] > sz: 1.5 KB\n",
      "INFO:hydroffice.ssp.io.kmio:('192.168.1.22', 4794) > DG 110/0x6e/n [Network Attitude Velocity] > sz: 1.5 KB\n",
      "INFO:hydroffice.ssp.io.kmio:('192.168.1.22', 4794) > DG 110/0x6e/n [Network Attitude Velocity] > sz: 1.5 KB\n",
      "INFO:hydroffice.ssp.io.kmio:('192.168.1.22', 4794) > DG 80/0x50/P [Position] > sz: 0.1 KB\n",
      "INFO:hydroffice.ssp.io.kmio:('192.168.1.22', 4794) > DG 110/0x6e/n [Network Attitude Velocity] > sz: 1.5 KB\n",
      "INFO:hydroffice.ssp.io.kmio:('192.168.1.22', 4794) > DG 110/0x6e/n [Network Attitude Velocity] > sz: 1.5 KB\n",
      "INFO:hydroffice.ssp.io.kmio:('192.168.1.22', 4794) > DG 110/0x6e/n [Network Attitude Velocity] > sz: 1.5 KB\n",
      "INFO:hydroffice.ssp.io.kmio:('192.168.1.22', 4794) > DG 110/0x6e/n [Network Attitude Velocity] > sz: 1.5 KB\n",
      "INFO:hydroffice.ssp.io.kmio:('192.168.1.22', 4794) > DG 110/0x6e/n [Network Attitude Velocity] > sz: 1.5 KB\n",
      "INFO:hydroffice.ssp.io.kmio:('192.168.1.22', 4794) > DG 48/0x30/0 [PU Id output] > sz: 0.1 KB\n",
      "INFO:hydroffice.ssp.io.kmio:('192.168.1.22', 4794) > DG 49/0x31/1 [PU Status] > sz: 0.1 KB\n",
      "INFO:hydroffice.ssp.io.kmio:('192.168.1.22', 4794) > DG 80/0x50/P [Position] > sz: 0.1 KB\n",
      "INFO:hydroffice.ssp.io.kmio:('192.168.1.22', 4794) > DG 65/0x41/A [Attitude] > sz: 1.2 KB\n",
      "INFO:hydroffice.ssp.io.kmio:('192.168.1.22', 4794) > DG 110/0x6e/n [Network Attitude Velocity] > sz: 1.5 KB\n",
      "INFO:hydroffice.ssp.io.kmio:('192.168.1.22', 4794) > DG 67/0x43/C [Clock] > sz: 0.0 KB\n",
      "INFO:hydroffice.ssp.io.kmio:('192.168.1.22', 4794) > DG 110/0x6e/n [Network Attitude Velocity] > sz: 1.5 KB\n",
      "INFO:hydroffice.ssp.io.kmio:('192.168.1.22', 4794) > DG 110/0x6e/n [Network Attitude Velocity] > sz: 1.5 KB\n",
      "INFO:hydroffice.ssp.io.kmio:('192.168.1.22', 4794) > DG 110/0x6e/n [Network Attitude Velocity] > sz: 1.5 KB\n",
      "INFO:hydroffice.ssp.io.kmio:('192.168.1.22', 4794) > DG 110/0x6e/n [Network Attitude Velocity] > sz: 1.5 KB\n",
      "INFO:hydroffice.ssp.io.kmio:('192.168.1.22', 4794) > DG 80/0x50/P [Position] > sz: 0.1 KB\n",
      "INFO:hydroffice.ssp.io.kmio:('192.168.1.22', 4794) > DG 110/0x6e/n [Network Attitude Velocity] > sz: 1.5 KB\n",
      "INFO:hydroffice.ssp.io.kmio:('192.168.1.22', 4794) > DG 110/0x6e/n [Network Attitude Velocity] > sz: 1.5 KB\n",
      "INFO:hydroffice.ssp.io.kmio:('192.168.1.22', 4794) > DG 110/0x6e/n [Network Attitude Velocity] > sz: 1.5 KB\n",
      "INFO:hydroffice.ssp.io.kmio:('192.168.1.22', 4794) > DG 110/0x6e/n [Network Attitude Velocity] > sz: 1.5 KB\n",
      "INFO:hydroffice.ssp.io.kmio:('192.168.1.22', 4794) > DG 110/0x6e/n [Network Attitude Velocity] > sz: 1.5 KB\n",
      "INFO:hydroffice.ssp.io.kmio:('192.168.1.22', 4794) > DG 48/0x30/0 [PU Id output] > sz: 0.1 KB\n",
      "INFO:hydroffice.ssp.io.kmio:('192.168.1.22', 4794) > DG 49/0x31/1 [PU Status] > sz: 0.1 KB\n",
      "INFO:hydroffice.ssp.io.kmio:('192.168.1.22', 4794) > DG 80/0x50/P [Position] > sz: 0.1 KB\n",
      "INFO:hydroffice.ssp.io.kmio:('192.168.1.22', 4794) > DG 65/0x41/A [Attitude] > sz: 1.2 KB\n",
      "INFO:hydroffice.ssp.io.kmio:('192.168.1.22', 4794) > DG 110/0x6e/n [Network Attitude Velocity] > sz: 1.5 KB\n",
      "INFO:hydroffice.ssp.io.kmio:('192.168.1.22', 4794) > DG 67/0x43/C [Clock] > sz: 0.0 KB\n",
      "INFO:hydroffice.ssp.io.kmio:('192.168.1.22', 4794) > DG 110/0x6e/n [Network Attitude Velocity] > sz: 1.5 KB\n",
      "INFO:hydroffice.ssp.io.kmio:('192.168.1.22', 4794) > DG 110/0x6e/n [Network Attitude Velocity] > sz: 1.5 KB\n",
      "INFO:hydroffice.ssp.io.kmio:('192.168.1.22', 4794) > DG 110/0x6e/n [Network Attitude Velocity] > sz: 1.5 KB\n",
      "INFO:hydroffice.ssp.io.kmio:('192.168.1.22', 4794) > DG 110/0x6e/n [Network Attitude Velocity] > sz: 1.5 KB\n",
      "INFO:hydroffice.ssp.io.kmio:('192.168.1.22', 4794) > DG 80/0x50/P [Position] > sz: 0.1 KB\n",
      "INFO:hydroffice.ssp.io.kmio:('192.168.1.22', 4794) > DG 110/0x6e/n [Network Attitude Velocity] > sz: 1.5 KB\n",
      "INFO:hydroffice.ssp.io.kmio:('192.168.1.22', 4794) > DG 110/0x6e/n [Network Attitude Velocity] > sz: 1.5 KB\n",
      "INFO:hydroffice.ssp.io.kmio:('192.168.1.22', 4794) > DG 110/0x6e/n [Network Attitude Velocity] > sz: 1.5 KB\n",
      "INFO:hydroffice.ssp.io.kmio:('192.168.1.22', 4794) > DG 110/0x6e/n [Network Attitude Velocity] > sz: 1.5 KB\n",
      "INFO:hydroffice.ssp.io.kmio:('192.168.1.22', 4794) > DG 110/0x6e/n [Network Attitude Velocity] > sz: 1.5 KB\n",
      "INFO:hydroffice.ssp.io.kmio:('192.168.1.22', 4794) > DG 48/0x30/0 [PU Id output] > sz: 0.1 KB\n",
      "INFO:hydroffice.ssp.io.kmio:('192.168.1.22', 4794) > DG 49/0x31/1 [PU Status] > sz: 0.1 KB\n",
      "INFO:hydroffice.ssp.io.kmio:('192.168.1.22', 4794) > DG 80/0x50/P [Position] > sz: 0.1 KB\n",
      "INFO:hydroffice.ssp.io.kmio:('192.168.1.22', 4794) > DG 65/0x41/A [Attitude] > sz: 1.2 KB\n",
      "INFO:hydroffice.ssp.io.kmio:('192.168.1.22', 4794) > DG 110/0x6e/n [Network Attitude Velocity] > sz: 1.5 KB\n",
      "INFO:hydroffice.ssp.io.kmio:('192.168.1.22', 4794) > DG 67/0x43/C [Clock] > sz: 0.0 KB\n",
      "INFO:hydroffice.ssp.io.kmio:('192.168.1.22', 4794) > DG 110/0x6e/n [Network Attitude Velocity] > sz: 1.5 KB\n",
      "INFO:hydroffice.ssp.io.kmio:('192.168.1.22', 4794) > DG 110/0x6e/n [Network Attitude Velocity] > sz: 1.5 KB\n",
      "INFO:hydroffice.ssp.io.kmio:('192.168.1.22', 4794) > DG 110/0x6e/n [Network Attitude Velocity] > sz: 1.5 KB\n",
      "INFO:hydroffice.ssp.io.kmio:('192.168.1.22', 4794) > DG 110/0x6e/n [Network Attitude Velocity] > sz: 1.5 KB\n",
      "INFO:hydroffice.ssp.io.kmio:('192.168.1.22', 4794) > DG 80/0x50/P [Position] > sz: 0.1 KB\n",
      "INFO:hydroffice.ssp.io.kmio:('192.168.1.22', 4794) > DG 110/0x6e/n [Network Attitude Velocity] > sz: 1.5 KB\n"
     ]
    }
   ],
   "source": [
    "km_listener.request_iur(\"192.168.1.22\")\n",
    "km_listener.start_listen()\n",
    "time.sleep(5)\n",
    "km_listener.stop_listen()"
   ]
  },
  {
   "cell_type": "code",
   "execution_count": 7,
   "metadata": {
    "collapsed": false
   },
   "outputs": [
    {
     "name": "stdout",
     "output_type": "stream",
     "text": [
      "ID: 80, Date: 2015-11-28 04:37:50.329000, Model: 122, Counter: 37992, S/N: 109\n",
      "\tLat/Lon: 4.664228 -166.722957\n",
      "\tQuality: 0.90 m\n",
      "\tSOG: 6.33 m/s\n",
      "\tCOG: 25.70 deg.\n",
      "\tHdg: 19.95 deg.\n",
      "\tDescriptor: 193\n",
      "\tInput (72 bytes): INGGA,043750.193,0439.85366,N,16643.37743,W,2,09,0.9,-4.49,M,,,0,0001*27\n",
      "\n",
      "None\n",
      "None\n",
      "None\n",
      "None\n"
     ]
    }
   ],
   "source": [
    "print(km_listener.nav)\n",
    "print(km_listener.ssp)\n",
    "print(km_listener.bist)\n",
    "print(km_listener.installation)\n",
    "print(km_listener.range_angle78)"
   ]
  },
  {
   "cell_type": "code",
   "execution_count": null,
   "metadata": {
    "collapsed": true
   },
   "outputs": [],
   "source": []
  }
 ],
 "metadata": {
  "kernelspec": {
   "display_name": "Python 2",
   "language": "python",
   "name": "python2"
  },
  "language_info": {
   "codemirror_mode": {
    "name": "ipython",
    "version": 2
   },
   "file_extension": ".py",
   "mimetype": "text/x-python",
   "name": "python",
   "nbconvert_exporter": "python",
   "pygments_lexer": "ipython2",
   "version": "2.7.10"
  }
 },
 "nbformat": 4,
 "nbformat_minor": 0
}
