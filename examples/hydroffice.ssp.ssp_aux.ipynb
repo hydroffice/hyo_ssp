{
 "cells": [
  {
   "cell_type": "markdown",
   "metadata": {},
   "source": [
    "# hydroffice.ssp.ssp_aux\n"
   ]
  },
  {
   "cell_type": "code",
   "execution_count": 1,
   "metadata": {
    "collapsed": true
   },
   "outputs": [],
   "source": [
    "from __future__ import absolute_import, division, print_function, unicode_literals\n",
    "\n",
    "from hydroffice.ssp.ssp_aux import SspAux"
   ]
  },
  {
   "cell_type": "code",
   "execution_count": 3,
   "metadata": {
    "collapsed": false
   },
   "outputs": [
    {
     "name": "stdout",
     "output_type": "stream",
     "text": [
      "partially flagged:\n",
      "[[ 0.  0.  0.  0.  0.  0.  0.  0.  0.  0.  0.  0.  0.  0.  0.  0.  0.  0.]\n",
      " [ 0.  0.  0.  0.  0.  0.  0.  0.  0.  0.  0.  0.  0.  0.  0.  0.  0.  0.]\n",
      " [ 0.  0.  0.  0.  0.  0.  0.  0.  0.  0.  0.  0.  0.  0.  0.  0.  0.  0.]\n",
      " [ 0.  0.  0.  0.  0.  0.  0.  0.  0.  0.  0.  0.  0.  0.  0.  0.  0.  0.]\n",
      " [ 0.  0.  0.  0.  0.  0.  0.  0.  0.  0.  0.  0.  0.  0.  0.  0.  0.  0.]\n",
      " [ 0.  0.  1.  1.  1.  1.  1.  1.  1.  1.  1.  1.  0.  0.  0.  0.  0.  0.]]\n",
      "size: 18\n",
      "purged:\n",
      "[[ 0.  0.  0.  0.  0.  0.  0.  0.]\n",
      " [ 0.  0.  0.  0.  0.  0.  0.  0.]\n",
      " [ 0.  0.  0.  0.  0.  0.  0.  0.]\n",
      " [ 0.  0.  0.  0.  0.  0.  0.  0.]\n",
      " [ 0.  0.  0.  0.  0.  0.  0.  0.]\n",
      " [ 0.  0.  0.  0.  0.  0.  0.  0.]]\n",
      "size: 8\n",
      "\n",
      "fully flagged:\n",
      "[[ 0.  0.  0.  0.  0.  0.  0.  0.]\n",
      " [ 0.  0.  0.  0.  0.  0.  0.  0.]\n",
      " [ 0.  0.  0.  0.  0.  0.  0.  0.]\n",
      " [ 0.  0.  0.  0.  0.  0.  0.  0.]\n",
      " [ 0.  0.  0.  0.  0.  0.  0.  0.]\n",
      " [ 1.  1.  1.  1.  1.  1.  1.  1.]]\n",
      "size: 8\n",
      "purged:\n",
      "[]\n",
      "size: 0\n"
     ]
    }
   ],
   "source": [
    "from hydroffice.ssp.ssp_dicts import Dicts\n",
    "import numpy as np\n",
    "\n",
    "test0_num_samples = 18\n",
    "test0 = np.zeros((len(Dicts.idx.keys()), test0_num_samples, ))\n",
    "\n",
    "test0[Dicts.idx['flag'], 2:12] = 1\n",
    "print(\"partially flagged:\\n%s\\nsize: %s\" % (test0, test0.shape[1]))\n",
    "\n",
    "test0 = SspAux.purge_flagged_samples(test0)\n",
    "print(\"purged:\\n%s\\nsize: %s\\n\" % (test0, test0.shape[1]))\n",
    "\n",
    "test0[Dicts.idx['flag'], :] = 1\n",
    "print(\"fully flagged:\\n%s\\nsize: %s\" % (test0, test0.shape[1]))\n",
    "\n",
    "test0 = SspAux.purge_flagged_samples(test0)\n",
    "print(\"purged:\\n%s\\nsize: %s\" % (test0, test0.shape[1]))"
   ]
  },
  {
   "cell_type": "code",
   "execution_count": null,
   "metadata": {
    "collapsed": true
   },
   "outputs": [],
   "source": []
  }
 ],
 "metadata": {
  "kernelspec": {
   "display_name": "Python 2",
   "language": "python",
   "name": "python2"
  },
  "language_info": {
   "codemirror_mode": {
    "name": "ipython",
    "version": 2
   },
   "file_extension": ".py",
   "mimetype": "text/x-python",
   "name": "python",
   "nbconvert_exporter": "python",
   "pygments_lexer": "ipython2",
   "version": "2.7.10"
  }
 },
 "nbformat": 4,
 "nbformat_minor": 0
}
