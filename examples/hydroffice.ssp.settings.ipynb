{
 "cells": [
  {
   "cell_type": "markdown",
   "metadata": {},
   "source": [
    "# hydroffice.ssp.settings\n",
    "\n"
   ]
  },
  {
   "cell_type": "code",
   "execution_count": 1,
   "metadata": {
    "collapsed": true
   },
   "outputs": [],
   "source": [
    "from __future__ import absolute_import, division, print_function, unicode_literals"
   ]
  },
  {
   "cell_type": "code",
   "execution_count": 2,
   "metadata": {
    "collapsed": false
   },
   "outputs": [],
   "source": [
    "import logging\n",
    "\n",
    "logger = logging.getLogger()\n",
    "logger.setLevel(logging.NOTSET)\n",
    "ch = logging.StreamHandler()\n",
    "ch.setLevel(logging.DEBUG)  # change to WARNING to reduce verbosity, DEBUG for high verbosity\n",
    "ch_formatter = logging.Formatter('%(levelname)-9s %(name)s.%(funcName)s:%(lineno)d > %(message)s')\n",
    "ch.setFormatter(ch_formatter)\n",
    "logger.addHandler(ch)"
   ]
  },
  {
   "cell_type": "code",
   "execution_count": 3,
   "metadata": {
    "collapsed": true
   },
   "outputs": [],
   "source": [
    "from hydroffice.ssp.settings.settings import Settings"
   ]
  },
  {
   "cell_type": "markdown",
   "metadata": {},
   "source": [
    "# Create a Settings instance"
   ]
  },
  {
   "cell_type": "code",
   "execution_count": 4,
   "metadata": {
    "collapsed": false,
    "scrolled": true
   },
   "outputs": [
    {
     "name": "stdout",
     "output_type": "stream",
     "text": [
      " # Settings (timestamp: 2015-11-27T18:24:47.125000) #\n",
      "\n",
      " > Waiting time: rx_max_wait_time:  None\n",
      "\n",
      " > Oceanographic data sources\n",
      "   - ssp_extension_source:  None\n",
      "   - ssp_salinity_source:  None\n",
      "   - ssp_temp_sal_source:  None\n",
      "   - sis_server_source:  None\n",
      "   - woa_path:  None\n",
      "\n",
      " > Processing: ssp_up_or_down:  None\n",
      "\n",
      " > User\n",
      "   - user_append_caris_file:  None\n",
      "   - user_export_prompt_filename:  None\n",
      "   - auto_export_on_send:  None\n",
      "\n",
      " > Server\n",
      "   - server_append_caris_file: None\n",
      "   - auto_export_on_server_send: None\n",
      "   - server_apply_surface_sound_speed: None\n",
      "\n",
      " > SIS settings: km_listen_port: None, km_listen_timeout: None, sis_auto_apply_manual_casts: None\n",
      "\n",
      " > Sippican settings: sippican_listen_port: None, sippican_listen_timeout: None\n",
      "\n",
      " > MVP settings\n",
      "   - mvp_ip_address: None, mvp_listen_port: None\n",
      "   - mvp_listen_timeout: None\n",
      "   - mvp_transmission_protocol: None\n",
      "   - mvp_format: None\n",
      "   - mvp_winch_port: None, mvp_fish_port: None, mvp_nav_port: None, mvp_system_port: None\n",
      "   - mvp_sw_version: None\n",
      "   - mvp_instrument: None\n",
      "   - mvp_instrument_id: None\n",
      "\n",
      " > Clients\n",
      "\n"
     ]
    }
   ],
   "source": [
    "settings = Settings()\n",
    "print(settings)"
   ]
  },
  {
   "cell_type": "markdown",
   "metadata": {},
   "source": [
    "## Show the active profile"
   ]
  },
  {
   "cell_type": "code",
   "execution_count": 5,
   "metadata": {
    "collapsed": false
   },
   "outputs": [
    {
     "name": "stderr",
     "output_type": "stream",
     "text": [
      "INFO:hydroffice.base.base_objects:Connected\n",
      "INFO      hydroffice.base.base_objects.reconnect_or_create:121 > Connected\n",
      "INFO:hydroffice.ssp.settings.db:foreign keys active\n",
      "INFO      hydroffice.ssp.settings.db.build_tables:38 > foreign keys active\n",
      "INFO:hydroffice.base.base_objects:Disconnected\n",
      "INFO      hydroffice.base.base_objects.disconnect:164 > Disconnected\n"
     ]
    },
    {
     "name": "stdout",
     "output_type": "stream",
     "text": [
      "1\n"
     ]
    }
   ],
   "source": [
    "print(settings.active_profile_id())"
   ]
  },
  {
   "cell_type": "markdown",
   "metadata": {},
   "source": [
    "## Load settings from DB"
   ]
  },
  {
   "cell_type": "code",
   "execution_count": 6,
   "metadata": {
    "collapsed": false
   },
   "outputs": [
    {
     "name": "stderr",
     "output_type": "stream",
     "text": [
      "INFO:hydroffice.base.base_objects:Connected\n",
      "INFO      hydroffice.base.base_objects.reconnect_or_create:121 > Connected\n",
      "INFO:hydroffice.ssp.settings.db:foreign keys active\n",
      "INFO      hydroffice.ssp.settings.db.build_tables:38 > foreign keys active\n",
      "INFO:hydroffice.ssp.settings.db:Settings name: default\n",
      "INFO      hydroffice.ssp.settings.db.active_profile_name:164 > Settings name: default\n",
      "DEBUG:hydroffice.ssp.settings.settings:Settings name: default\n",
      "DEBUG     hydroffice.ssp.settings.settings.load_settings_from_db:64 > Settings name: default\n",
      "INFO:hydroffice.ssp.settings.db:rx_max_wait_time = 30\n",
      "INFO      hydroffice.ssp.settings.db._getter_int:240 > rx_max_wait_time = 30\n",
      "INFO:hydroffice.ssp.settings.db:ssp_extension_source = WOA09\n",
      "INFO      hydroffice.ssp.settings.db._getter_str:255 > ssp_extension_source = WOA09\n",
      "INFO:hydroffice.ssp.settings.db:ssp_salinity_source = WOA09\n",
      "INFO      hydroffice.ssp.settings.db._getter_str:255 > ssp_salinity_source = WOA09\n",
      "INFO:hydroffice.ssp.settings.db:ssp_temp_sal_source = WOA09\n",
      "INFO      hydroffice.ssp.settings.db._getter_str:255 > ssp_temp_sal_source = WOA09\n",
      "INFO:hydroffice.ssp.settings.db:sis_server_source = WOA09\n",
      "INFO      hydroffice.ssp.settings.db._getter_str:255 > sis_server_source = WOA09\n",
      "INFO:hydroffice.ssp.settings.db:woa_path = None\n",
      "INFO      hydroffice.ssp.settings.db._getter_str:255 > woa_path = None\n",
      "INFO:hydroffice.ssp.settings.db:ssp_up_or_down = down\n",
      "INFO      hydroffice.ssp.settings.db._getter_str:255 > ssp_up_or_down = down\n",
      "INFO:hydroffice.ssp.settings.db:user_append_caris_file = False\n",
      "INFO      hydroffice.ssp.settings.db._getter_bool:270 > user_append_caris_file = False\n",
      "INFO:hydroffice.ssp.settings.db:user_export_prompt_filename = False\n",
      "INFO      hydroffice.ssp.settings.db._getter_bool:270 > user_export_prompt_filename = False\n",
      "INFO:hydroffice.ssp.settings.db:auto_export_on_send = False\n",
      "INFO      hydroffice.ssp.settings.db._getter_bool:270 > auto_export_on_send = False\n",
      "INFO:hydroffice.ssp.settings.db:server_append_caris_file = False\n",
      "INFO      hydroffice.ssp.settings.db._getter_bool:270 > server_append_caris_file = False\n",
      "INFO:hydroffice.ssp.settings.db:auto_export_on_server_send = True\n",
      "INFO      hydroffice.ssp.settings.db._getter_bool:270 > auto_export_on_server_send = True\n",
      "INFO:hydroffice.ssp.settings.db:server_apply_surface_sound_speed = True\n",
      "INFO      hydroffice.ssp.settings.db._getter_bool:270 > server_apply_surface_sound_speed = True\n",
      "INFO:hydroffice.ssp.settings.db:km_listen_port = 16101\n",
      "INFO      hydroffice.ssp.settings.db._getter_int:240 > km_listen_port = 16101\n",
      "INFO:hydroffice.ssp.settings.db:km_listen_timeout = 1\n",
      "INFO      hydroffice.ssp.settings.db._getter_int:240 > km_listen_timeout = 1\n",
      "INFO:hydroffice.ssp.settings.db:sis_auto_apply_manual_casts = False\n",
      "INFO      hydroffice.ssp.settings.db._getter_bool:270 > sis_auto_apply_manual_casts = False\n",
      "INFO:hydroffice.ssp.settings.db:sippican_listen_port = 20024\n",
      "INFO      hydroffice.ssp.settings.db._getter_int:240 > sippican_listen_port = 20024\n",
      "INFO:hydroffice.ssp.settings.db:sippican_listen_timeout = 13\n",
      "INFO      hydroffice.ssp.settings.db._getter_int:240 > sippican_listen_timeout = 13\n",
      "INFO:hydroffice.ssp.settings.db:mvp_ip_address = 127.0.0.1\n",
      "INFO      hydroffice.ssp.settings.db._getter_str:255 > mvp_ip_address = 127.0.0.1\n",
      "INFO:hydroffice.ssp.settings.db:mvp_listen_port = 20062\n",
      "INFO      hydroffice.ssp.settings.db._getter_int:240 > mvp_listen_port = 20062\n",
      "INFO:hydroffice.ssp.settings.db:mvp_listen_timeout = 122\n",
      "INFO      hydroffice.ssp.settings.db._getter_int:240 > mvp_listen_timeout = 122\n",
      "INFO:hydroffice.ssp.settings.db:mvp_transmission_protocol = NAVO_ISS60\n",
      "INFO      hydroffice.ssp.settings.db._getter_str:255 > mvp_transmission_protocol = NAVO_ISS60\n",
      "INFO:hydroffice.ssp.settings.db:mvp_format = CALC\n",
      "INFO      hydroffice.ssp.settings.db._getter_str:255 > mvp_format = CALC\n",
      "INFO:hydroffice.ssp.settings.db:mvp_winch_port = 3601\n",
      "INFO      hydroffice.ssp.settings.db._getter_int:240 > mvp_winch_port = 3601\n",
      "INFO:hydroffice.ssp.settings.db:mvp_fish_port = 3602\n",
      "INFO      hydroffice.ssp.settings.db._getter_int:240 > mvp_fish_port = 3602\n",
      "INFO:hydroffice.ssp.settings.db:mvp_nav_port = 3603\n",
      "INFO      hydroffice.ssp.settings.db._getter_int:240 > mvp_nav_port = 3603\n",
      "INFO:hydroffice.ssp.settings.db:mvp_system_port = 36043\n",
      "INFO      hydroffice.ssp.settings.db._getter_int:240 > mvp_system_port = 36043\n",
      "INFO:hydroffice.ssp.settings.db:mvp_sw_version = 2.47333\n",
      "INFO      hydroffice.ssp.settings.db._getter_str:255 > mvp_sw_version = 2.47333\n",
      "INFO:hydroffice.ssp.settings.db:mvp_instrument = Valeport_SVPT\n",
      "INFO      hydroffice.ssp.settings.db._getter_str:255 > mvp_instrument = Valeport_SVPT\n",
      "INFO:hydroffice.ssp.settings.db:mvp_instrument_id = Meee\n",
      "INFO      hydroffice.ssp.settings.db._getter_str:255 > mvp_instrument_id = Meee\n",
      "INFO:hydroffice.ssp.settings.db:SSP clients: 1\n",
      "INFO      hydroffice.ssp.settings.db.client_list:172 > SSP clients: 1\n",
      "INFO:hydroffice.ssp.pkg_clients:new client: \"km1520\"(192.168.1.22:3500) SIS\n",
      "INFO      hydroffice.ssp.pkg_clients.__init__:18 > new client: \"km1520\"(192.168.1.22:3500) SIS\n",
      "INFO:hydroffice.base.base_objects:Disconnected\n",
      "INFO      hydroffice.base.base_objects.disconnect:164 > Disconnected\n"
     ]
    },
    {
     "name": "stdout",
     "output_type": "stream",
     "text": [
      " # Settings (timestamp: 2015-11-27T18:25:37.748000) #\n",
      "\n",
      " > Waiting time: rx_max_wait_time:  30\n",
      "\n",
      " > Oceanographic data sources\n",
      "   - ssp_extension_source:  0 >> WOA09\n",
      "   - ssp_salinity_source:  0 >> WOA09\n",
      "   - ssp_temp_sal_source:  0 >> WOA09\n",
      "   - sis_server_source:  0 >> WOA09\n",
      "   - woa_path:  None\n",
      "\n",
      " > Processing: ssp_up_or_down:  1 >> down\n",
      "\n",
      " > User\n",
      "   - user_append_caris_file:  False\n",
      "   - user_export_prompt_filename:  False\n",
      "   - auto_export_on_send:  False\n",
      "\n",
      " > Server\n",
      "   - server_append_caris_file: False\n",
      "   - auto_export_on_server_send: True\n",
      "   - server_apply_surface_sound_speed: True\n",
      "\n",
      " > SIS settings: km_listen_port: 16101, km_listen_timeout: 1, sis_auto_apply_manual_casts: False\n",
      "\n",
      " > Sippican settings: sippican_listen_port: 20024, sippican_listen_timeout: 13\n",
      "\n",
      " > MVP settings\n",
      "   - mvp_ip_address: 127.0.0.1, mvp_listen_port: 20062\n",
      "   - mvp_listen_timeout: 122\n",
      "   - mvp_transmission_protocol: NAVO_ISS60\n",
      "   - mvp_format: CALC\n",
      "   - mvp_winch_port: 3601, mvp_fish_port: 3602, mvp_nav_port: 3603, mvp_system_port: 36043\n",
      "   - mvp_sw_version: 2.47333\n",
      "   - mvp_instrument: Valeport_SVPT\n",
      "   - mvp_instrument_id: Meee\n",
      "\n",
      " > Clients\n",
      "   - \"km1520\" 192.168.1.22:3500 SIS [True]\n",
      "\n"
     ]
    }
   ],
   "source": [
    "settings.load_settings_from_db()\n",
    "print(settings)"
   ]
  },
  {
   "cell_type": "markdown",
   "metadata": {},
   "source": [
    "---------"
   ]
  }
 ],
 "metadata": {
  "kernelspec": {
   "display_name": "Python 2",
   "language": "python",
   "name": "python2"
  },
  "language_info": {
   "codemirror_mode": {
    "name": "ipython",
    "version": 2
   },
   "file_extension": ".py",
   "mimetype": "text/x-python",
   "name": "python",
   "nbconvert_exporter": "python",
   "pygments_lexer": "ipython2",
   "version": "2.7.10"
  }
 },
 "nbformat": 4,
 "nbformat_minor": 0
}
