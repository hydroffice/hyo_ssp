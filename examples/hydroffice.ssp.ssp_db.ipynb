{
 "cells": [
  {
   "cell_type": "markdown",
   "metadata": {},
   "source": [
    "# hydroffice.ssp.ssp_db\n",
    "\n"
   ]
  },
  {
   "cell_type": "code",
   "execution_count": 1,
   "metadata": {
    "collapsed": false
   },
   "outputs": [],
   "source": [
    "from __future__ import absolute_import, division, print_function, unicode_literals\n",
    "\n",
    "from hydroffice.ssp.ssp_db import SspDb"
   ]
  },
  {
   "cell_type": "markdown",
   "metadata": {},
   "source": [
    "## Set the logging"
   ]
  },
  {
   "cell_type": "code",
   "execution_count": 2,
   "metadata": {
    "collapsed": true
   },
   "outputs": [],
   "source": [
    "import logging\n",
    "\n",
    "logger = logging.getLogger()\n",
    "logger.setLevel(logging.NOTSET)\n",
    "ch = logging.StreamHandler()\n",
    "ch.setLevel(logging.DEBUG)  # change to WARNING to reduce verbosity, DEBUG for high verbosity\n",
    "ch_formatter = logging.Formatter('%(levelname)-9s %(name)s.%(funcName)s:%(lineno)d > %(message)s')\n",
    "ch.setFormatter(ch_formatter)\n",
    "logger.addHandler(ch)"
   ]
  },
  {
   "cell_type": "markdown",
   "metadata": {},
   "source": [
    "## SspDb\n",
    "\n",
    "### Create a SSP DB and populate with a SSP Collection"
   ]
  },
  {
   "cell_type": "code",
   "execution_count": 14,
   "metadata": {
    "collapsed": false
   },
   "outputs": [
    {
     "name": "stderr",
     "output_type": "stream",
     "text": [
      "DEBUG:hydroffice.ssp.cast_reader:Z:\\_py\\__hyo_dev\\hyo_ssp\\hydroffice\\ssp\\samples\\sippican\\C3_00172.EDF [5]\n",
      "DEBUG     hydroffice.ssp.cast_reader._run_fmt_load:55 > Z:\\_py\\__hyo_dev\\hyo_ssp\\hydroffice\\ssp\\samples\\sippican\\C3_00172.EDF [5]\n",
      "INFO:hydroffice.ssp.drivers.sippican.sippican:reading ...\n",
      "INFO      hydroffice.ssp.drivers.sippican.sippican.__init__:36 > reading ...\n",
      "INFO:hydroffice.ssp.drivers.sippican.sippican:reading Sippican > header\n",
      "INFO      hydroffice.ssp.drivers.sippican.sippican._read_header:44 > reading Sippican > header\n",
      "INFO:hydroffice.ssp.drivers.sippican.sippican:date: 10 / 21 / 2012\n",
      "INFO      hydroffice.ssp.drivers.sippican.sippican._read_header:85 > date: 10 / 21 / 2012\n",
      "INFO:hydroffice.ssp.drivers.sippican.sippican:time: 1 : 39 : 22\n",
      "INFO      hydroffice.ssp.drivers.sippican.sippican._read_header:93 > time: 1 : 39 : 22\n",
      "INFO:hydroffice.ssp.drivers.sippican.sippican:lat: 71.6977701667\n",
      "INFO      hydroffice.ssp.drivers.sippican.sippican._read_header:105 > lat: 71.6977701667\n",
      "INFO:hydroffice.ssp.drivers.sippican.sippican:long: 155.092529333\n",
      "INFO      hydroffice.ssp.drivers.sippican.sippican._read_header:120 > long: 155.092529333\n",
      "INFO:hydroffice.ssp.drivers.sippican.sippican:probe type: 6\n",
      "INFO      hydroffice.ssp.drivers.sippican.sippican._read_header:154 > probe type: 6\n",
      "INFO:hydroffice.ssp.drivers.sippican.sippican:filename: Files\\Sippican\\WinMK21\\DATA\\C3_00172.RDF\n",
      "INFO      hydroffice.ssp.drivers.sippican.sippican._read_header:131 > filename: Files\\Sippican\\WinMK21\\DATA\\C3_00172.RDF\n",
      "INFO:hydroffice.ssp.drivers.sippican.sippican:samples offset: 61\n",
      "INFO      hydroffice.ssp.drivers.sippican.sippican._read_header:69 > samples offset: 61\n",
      "INFO:hydroffice.ssp.drivers.sippican.sippican:max samples: 2931\n",
      "INFO      hydroffice.ssp.drivers.sippican.sippican._read_header:173 > max samples: 2931\n",
      "INFO:hydroffice.ssp.drivers.sippican.sippican:sensor type: 6\n",
      "INFO      hydroffice.ssp.drivers.sippican.sippican._read_header:183 > sensor type: 6\n",
      "INFO:hydroffice.ssp.drivers.sippican.sippican:var alpha: False\n",
      "INFO      hydroffice.ssp.drivers.sippican.sippican._read_header:184 > var alpha: False\n",
      "INFO:hydroffice.ssp.drivers.sippican.sippican:reading > body\n",
      "INFO      hydroffice.ssp.drivers.sippican.sippican._read_body:187 > reading > body\n",
      "INFO:hydroffice.ssp.ssp:raw: - Date Time: 2012-10-21 01:39:22\n",
      "- Position: -155.092529333 71.6977701667\n",
      "- Original Path: Z:\\_py\\__hyo_dev\\hyo_ssp\\hydroffice\\ssp\\samples\\sippican\\C3_00172.EDF\n",
      "- Sensor Type: 6\n",
      "- Probe Type: 17\n",
      "- Driver: SPC.0.2.0\n",
      "- Samples: 1465\n",
      "0.00 1444.88 1.76 25.75\n",
      "0.10 1447.77 1.84 27.67\n",
      "0.30 1448.23 1.89 27.85\n",
      "0.40 1448.98 1.91 28.35\n",
      "0.50 1449.36 1.93 28.57\n",
      ".... .... .... .... ....\n",
      "199.00 1435.22 -1.05 25.93\n",
      "\n",
      "INFO      hydroffice.ssp.ssp.read_input_file_by_format:91 > raw: - Date Time: 2012-10-21 01:39:22\n",
      "- Position: -155.092529333 71.6977701667\n",
      "- Original Path: Z:\\_py\\__hyo_dev\\hyo_ssp\\hydroffice\\ssp\\samples\\sippican\\C3_00172.EDF\n",
      "- Sensor Type: 6\n",
      "- Probe Type: 17\n",
      "- Driver: SPC.0.2.0\n",
      "- Samples: 1465\n",
      "0.00 1444.88 1.76 25.75\n",
      "0.10 1447.77 1.84 27.67\n",
      "0.30 1448.23 1.89 27.85\n",
      "0.40 1448.98 1.91 28.35\n",
      "0.50 1449.36 1.93 28.57\n",
      ".... .... .... .... ....\n",
      "199.00 1435.22 -1.05 25.93\n",
      "\n",
      "INFO:hydroffice.ssp.ssp:resulting processed data size: (6, 1465)\n",
      "INFO      hydroffice.ssp.ssp.set_samples:120 > resulting processed data size: (6, 1465)\n",
      "INFO:hydroffice.ssp.ssp:storing raw data\n",
      "INFO      hydroffice.ssp.ssp.store_raw:133 > storing raw data\n",
      "INFO:hydroffice.base.base_objects:Connected\n",
      "INFO      hydroffice.base.base_objects.reconnect_or_create:121 > Connected\n",
      "INFO:hydroffice.ssp.ssp_db:foreign keys active\n",
      "INFO      hydroffice.ssp.ssp_db.build_tables:78 > foreign keys active\n",
      "INFO:hydroffice.ssp.ssp_db:got a new SSP to store:\n",
      "- Date Time: 2012-10-21 01:39:22\n",
      "- Position: -155.092529333, 71.6977701667\n",
      "- Survey Name: default\n",
      "- Original Path: Z:\\_py\\__hyo_dev\\hyo_ssp\\hydroffice\\ssp\\samples\\sippican\\C3_00172.EDF\n",
      "- Sensor Type: 6\n",
      "- Source String: XCTD-1\n",
      "- Driver: SPC.0.2.0\n",
      "- Samples: (6, 1465)\n",
      "- Raw data: (6, 1465)\n",
      "0.00 1444.88 1.76 25.75 0 0\n",
      "0.10 1447.77 1.84 27.67 0 0\n",
      "0.30 1448.23 1.89 27.85 0 0\n",
      "0.40 1448.98 1.91 28.35 0 0\n",
      "0.50 1449.36 1.93 28.57 0 0\n",
      ".... .... .... .... ....\n",
      "199.00 1435.22 -1.05 25.93 0 0\n",
      "\n",
      "INFO      hydroffice.ssp.ssp_db.add_casts:177 > got a new SSP to store:\n",
      "- Date Time: 2012-10-21 01:39:22\n",
      "- Position: -155.092529333, 71.6977701667\n",
      "- Survey Name: default\n",
      "- Original Path: Z:\\_py\\__hyo_dev\\hyo_ssp\\hydroffice\\ssp\\samples\\sippican\\C3_00172.EDF\n",
      "- Sensor Type: 6\n",
      "- Source String: XCTD-1\n",
      "- Driver: SPC.0.2.0\n",
      "- Samples: (6, 1465)\n",
      "- Raw data: (6, 1465)\n",
      "0.00 1444.88 1.76 25.75 0 0\n",
      "0.10 1447.77 1.84 27.67 0 0\n",
      "0.30 1448.23 1.89 27.85 0 0\n",
      "0.40 1448.98 1.91 28.35 0 0\n",
      "0.50 1449.36 1.93 28.57 0 0\n",
      ".... .... .... .... ....\n",
      "199.00 1435.22 -1.05 25.93 0 0\n",
      "\n",
      "INFO:hydroffice.ssp.ssp_db:found 1 survey named default\n",
      "INFO      hydroffice.ssp.ssp_db._add_survey_if_missing:217 > found 1 survey named default\n",
      "INFO:hydroffice.ssp.ssp_db:add new spp pk for 2012-10-21 01:39:22 @ (-155.092529;71.697770)\n",
      "INFO      hydroffice.ssp.ssp_db._get_ssp_pk:249 > add new spp pk for 2012-10-21 01:39:22 @ (-155.092529;71.697770)\n",
      "INFO:hydroffice.ssp.ssp_db:spp pk: 1\n",
      "INFO      hydroffice.ssp.ssp_db._get_ssp_pk:264 > spp pk: 1\n",
      "INFO:hydroffice.ssp.ssp_db:deleted 1 pk entries from raw_samples\n",
      "INFO      hydroffice.ssp.ssp_db._delete_old_ssp:278 > deleted 1 pk entries from raw_samples\n",
      "INFO:hydroffice.ssp.ssp_db:deleted 1 pk entries from mod_samples\n",
      "INFO      hydroffice.ssp.ssp_db._delete_old_ssp:286 > deleted 1 pk entries from mod_samples\n",
      "INFO:hydroffice.ssp.ssp_db:deleted 1 pk entries from sis_samples\n",
      "INFO      hydroffice.ssp.ssp_db._delete_old_ssp:294 > deleted 1 pk entries from sis_samples\n",
      "INFO:hydroffice.ssp.ssp_db:deleted 1 pk entry from ssp\n",
      "INFO      hydroffice.ssp.ssp_db._delete_old_ssp:302 > deleted 1 pk entry from ssp\n",
      "INFO:hydroffice.ssp.ssp_db:insert new 1 pk in ssp\n",
      "INFO      hydroffice.ssp.ssp_db._add_ssp:330 > insert new 1 pk in ssp\n",
      "INFO:hydroffice.ssp.ssp_db:max raw samples to add: 1465\n",
      "INFO      hydroffice.ssp.ssp_db._add_ssp_raw_samples:341 > max raw samples to add: 1465\n",
      "INFO:hydroffice.ssp.ssp_db:added 1465 raw samples\n",
      "INFO      hydroffice.ssp.ssp_db._add_ssp_raw_samples:368 > added 1465 raw samples\n",
      "INFO:hydroffice.ssp.ssp_db:max processed samples to add: 1465\n",
      "INFO      hydroffice.ssp.ssp_db._add_ssp_mod_samples:374 > max processed samples to add: 1465\n",
      "INFO:hydroffice.ssp.ssp_db:added 1465 processed samples\n",
      "INFO      hydroffice.ssp.ssp_db._add_ssp_mod_samples:402 > added 1465 processed samples\n"
     ]
    },
    {
     "name": "stdout",
     "output_type": "stream",
     "text": [
      "DB file: Z:\\_py\\__hyo_dev\\hyo_ssp\\examples\\test.db\n",
      "added cast: True\n"
     ]
    }
   ],
   "source": [
    "# Read a profile\n",
    "\n",
    "import os\n",
    "\n",
    "from hydroffice.ssp.cast_reader import CastReader\n",
    "from hydroffice.ssp.helper import Helper\n",
    "from hydroffice.ssp.ssp_dicts import Dicts\n",
    "\n",
    "rdr = CastReader()\n",
    "test_file = os.path.join(Helper.get_samples_folder(), \"sippican\", \"C3_00172.EDF\")\n",
    "rdr.read_cast(test_file, Dicts.import_formats[\"SIPPICAN\"])\n",
    "\n",
    "# Create a database\n",
    "\n",
    "db_file = os.path.abspath(os.path.join(os.getcwd(), \"test.db\"))\n",
    "print(\"DB file: %s\" % db_file)\n",
    "test_db = SspDb(db_path=db_file)\n",
    "\n",
    "# Add a cast\n",
    "ret0 = test_db.add_casts(rdr.casts)\n",
    "print(\"added cast: %s\" % ret0)"
   ]
  },
  {
   "cell_type": "markdown",
   "metadata": {},
   "source": [
    "### Retrieve cast information"
   ]
  },
  {
   "cell_type": "code",
   "execution_count": 6,
   "metadata": {
    "collapsed": false
   },
   "outputs": [
    {
     "name": "stderr",
     "output_type": "stream",
     "text": [
      "INFO:hydroffice.ssp.ssp_db:get casts by survey name: default\n",
      "INFO      hydroffice.ssp.ssp_db.list_ssp_pks_by_survey_name:465 > get casts by survey name: default\n"
     ]
    },
    {
     "name": "stdout",
     "output_type": "stream",
     "text": [
      "1\n",
      "1\n"
     ]
    }
   ],
   "source": [
    "ret0 = test_db.list_all_ssp_pks()\n",
    "print(len(ret0))\n",
    "\n",
    "ret0 = test_db.list_ssp_pks_by_survey_name()\n",
    "print(len(ret0))"
   ]
  },
  {
   "cell_type": "code",
   "execution_count": 7,
   "metadata": {
    "collapsed": false
   },
   "outputs": [
    {
     "name": "stderr",
     "output_type": "stream",
     "text": [
      "INFO:hydroffice.ssp.ssp_db:get ssp by primary key: 1\n",
      "INFO      hydroffice.ssp.ssp_db.get_ssp_by_pk:487 > get ssp by primary key: 1\n",
      "INFO:hydroffice.ssp.ssp:resulting raw data size: (6, 1465)\n",
      "INFO      hydroffice.ssp.ssp.set_raw_samples:115 > resulting raw data size: (6, 1465)\n",
      "INFO:hydroffice.ssp.ssp:resulting processed data size: (6, 1465)\n",
      "INFO      hydroffice.ssp.ssp.set_samples:120 > resulting processed data size: (6, 1465)\n",
      "INFO:hydroffice.ssp.ssp:resulting sis data size: (6, 0)\n",
      "INFO      hydroffice.ssp.ssp.set_sis_samples:110 > resulting sis data size: (6, 0)\n"
     ]
    },
    {
     "name": "stdout",
     "output_type": "stream",
     "text": [
      "raw samples: 1465\n",
      "samples: 1465\n",
      "sis samples: 0\n",
      "- Date Time: 2012-10-21 01:39:22\n",
      "- Position: -155.092529, 71.69777\n",
      "- Survey Name: default\n",
      "- Original Path: Z:\\_py\\__hyo_dev\\hyo_ssp\\hydroffice\\ssp\\samples\\sippican\\C3_00172.EDF\n",
      "- Sensor Type: 6\n",
      "- Source String: XCTD-1\n",
      "- Driver: SPC.0.2.0\n",
      "- Samples: (6, 1465)\n",
      "- Raw data: (6, 1465)\n",
      "- Sis data: (6, 0)\n",
      "0.00 1444.88 1.76 25.75 0 0\n",
      "0.10 1447.77 1.84 27.67 0 0\n",
      "0.30 1448.23 1.89 27.85 0 0\n",
      "0.40 1448.98 1.91 28.35 0 0\n",
      "0.50 1449.36 1.93 28.57 0 0\n",
      ".... .... .... .... ....\n",
      "199.00 1435.22 -1.05 25.93 0 0\n",
      "\n"
     ]
    }
   ],
   "source": [
    "if len(ret0) > 0:\n",
    "     ssp_data = test_db.get_ssp_by_pk(ret0[0][0])\n",
    "     print(ssp_data)"
   ]
  },
  {
   "cell_type": "code",
   "execution_count": 23,
   "metadata": {
    "collapsed": false
   },
   "outputs": [
    {
     "ename": "ProgrammingError",
     "evalue": "Cannot operate on a closed database.",
     "output_type": "error",
     "traceback": [
      "\u001b[1;31m---------------------------------------------------------------------------\u001b[0m",
      "\u001b[1;31mProgrammingError\u001b[0m                          Traceback (most recent call last)",
      "\u001b[1;32m<ipython-input-23-8d562770bcc7>\u001b[0m in \u001b[0;36m<module>\u001b[1;34m()\u001b[0m\n\u001b[1;32m----> 1\u001b[1;33m \u001b[1;32mprint\u001b[0m\u001b[1;33m(\u001b[0m\u001b[1;34m\"\\ntotal ssp rows: %s\"\u001b[0m \u001b[1;33m%\u001b[0m \u001b[0mtest_db\u001b[0m\u001b[1;33m.\u001b[0m\u001b[0mcheck_table_total_rows\u001b[0m\u001b[1;33m(\u001b[0m\u001b[1;34m'ssp'\u001b[0m\u001b[1;33m,\u001b[0m \u001b[0mTrue\u001b[0m\u001b[1;33m)\u001b[0m\u001b[1;33m)\u001b[0m\u001b[1;33m\u001b[0m\u001b[0m\n\u001b[0m",
      "\u001b[1;32mZ:\\_py\\__hyo_dev\\hyo_base\\hydroffice\\base\\base_objects.pyc\u001b[0m in \u001b[0;36mcheck_table_total_rows\u001b[1;34m(self, table_name, print_out)\u001b[0m\n\u001b[0;32m     61\u001b[0m         \u001b[0mtable_name\u001b[0m \u001b[1;33m=\u001b[0m \u001b[0mBaseDbObject\u001b[0m\u001b[1;33m.\u001b[0m\u001b[0mclean_name\u001b[0m\u001b[1;33m(\u001b[0m\u001b[0mtable_name\u001b[0m\u001b[1;33m)\u001b[0m\u001b[1;33m\u001b[0m\u001b[0m\n\u001b[0;32m     62\u001b[0m \u001b[1;33m\u001b[0m\u001b[0m\n\u001b[1;32m---> 63\u001b[1;33m         \u001b[1;32mfor\u001b[0m \u001b[0mret\u001b[0m \u001b[1;32min\u001b[0m \u001b[0mself\u001b[0m\u001b[1;33m.\u001b[0m\u001b[0mconn\u001b[0m\u001b[1;33m.\u001b[0m\u001b[0mexecute\u001b[0m\u001b[1;33m(\u001b[0m\u001b[1;34m'SELECT COUNT(*) FROM {}'\u001b[0m\u001b[1;33m.\u001b[0m\u001b[0mformat\u001b[0m\u001b[1;33m(\u001b[0m\u001b[0mtable_name\u001b[0m\u001b[1;33m)\u001b[0m\u001b[1;33m)\u001b[0m\u001b[1;33m:\u001b[0m\u001b[1;33m\u001b[0m\u001b[0m\n\u001b[0m\u001b[0;32m     64\u001b[0m             \u001b[1;32mif\u001b[0m \u001b[0mprint_out\u001b[0m\u001b[1;33m:\u001b[0m\u001b[1;33m\u001b[0m\u001b[0m\n\u001b[0;32m     65\u001b[0m                 \u001b[1;32mprint\u001b[0m\u001b[1;33m(\u001b[0m\u001b[1;34m'\\nTotal rows: {}'\u001b[0m\u001b[1;33m.\u001b[0m\u001b[0mformat\u001b[0m\u001b[1;33m(\u001b[0m\u001b[0mret\u001b[0m\u001b[1;33m[\u001b[0m\u001b[1;36m0\u001b[0m\u001b[1;33m]\u001b[0m\u001b[1;33m)\u001b[0m\u001b[1;33m)\u001b[0m\u001b[1;33m\u001b[0m\u001b[0m\n",
      "\u001b[1;31mProgrammingError\u001b[0m: Cannot operate on a closed database."
     ]
    }
   ],
   "source": [
    "print(\"\\ntotal ssp rows: %s\" % test_db.check_table_total_rows('ssp', True))"
   ]
  },
  {
   "cell_type": "code",
   "execution_count": 9,
   "metadata": {
    "collapsed": false
   },
   "outputs": [
    {
     "name": "stdout",
     "output_type": "stream",
     "text": [
      "\n",
      "Column Info:\n",
      "ID, Name, Type, NotNull, DefaultVal, PrimaryKey\n",
      "<sqlite3.Row object at 0x000000000C778550>\n",
      "<sqlite3.Row object at 0x000000000C778470>\n",
      "<sqlite3.Row object at 0x000000000C7784D0>\n",
      "<sqlite3.Row object at 0x000000000C778430>\n",
      "<sqlite3.Row object at 0x000000000C7784B0>\n",
      "<sqlite3.Row object at 0x000000000C778570>\n"
     ]
    },
    {
     "data": {
      "text/plain": [
       "[<sqlite3.Row at 0xc778550>,\n",
       " <sqlite3.Row at 0xc778470>,\n",
       " <sqlite3.Row at 0xc7784d0>,\n",
       " <sqlite3.Row at 0xc778430>,\n",
       " <sqlite3.Row at 0xc7784b0>,\n",
       " <sqlite3.Row at 0xc778570>]"
      ]
     },
     "execution_count": 9,
     "metadata": {},
     "output_type": "execute_result"
    }
   ],
   "source": [
    "test_db.check_table_cols_settings('ssp', True)"
   ]
  },
  {
   "cell_type": "code",
   "execution_count": 10,
   "metadata": {
    "collapsed": false
   },
   "outputs": [
    {
     "name": "stdout",
     "output_type": "stream",
     "text": [
      "\n",
      "Number of entries per column:\n",
      "source_info: 1\n",
      "survey_name: 1\n",
      "driver: 1\n",
      "original_path: 1\n",
      "sensor_type: 1\n",
      "pk: 1\n"
     ]
    },
    {
     "data": {
      "text/plain": [
       "{u'driver': 1,\n",
       " u'original_path': 1,\n",
       " u'pk': 1,\n",
       " u'sensor_type': 1,\n",
       " u'source_info': 1,\n",
       " u'survey_name': 1}"
      ]
     },
     "execution_count": 10,
     "metadata": {},
     "output_type": "execute_result"
    }
   ],
   "source": [
    "test_db.check_tables_values_in_cols('ssp', True)"
   ]
  },
  {
   "cell_type": "code",
   "execution_count": 11,
   "metadata": {
    "collapsed": false
   },
   "outputs": [
    {
     "name": "stderr",
     "output_type": "stream",
     "text": [
      "INFO:hydroffice.ssp.ssp_db:deleted 1 pk entries from raw_samples\n",
      "INFO      hydroffice.ssp.ssp_db._delete_old_ssp:278 > deleted 1 pk entries from raw_samples\n",
      "INFO:hydroffice.ssp.ssp_db:deleted 1 pk entries from mod_samples\n",
      "INFO      hydroffice.ssp.ssp_db._delete_old_ssp:286 > deleted 1 pk entries from mod_samples\n",
      "INFO:hydroffice.ssp.ssp_db:deleted 1 pk entries from sis_samples\n",
      "INFO      hydroffice.ssp.ssp_db._delete_old_ssp:294 > deleted 1 pk entries from sis_samples\n",
      "INFO:hydroffice.ssp.ssp_db:deleted 1 pk entry from ssp\n",
      "INFO      hydroffice.ssp.ssp_db._delete_old_ssp:302 > deleted 1 pk entry from ssp\n",
      "INFO:hydroffice.ssp.ssp_db:deleted 1 id entry from ssp_pk\n",
      "INFO      hydroffice.ssp.ssp_db._delete_old_ssp:311 > deleted 1 id entry from ssp_pk\n"
     ]
    },
    {
     "name": "stdout",
     "output_type": "stream",
     "text": [
      "\n",
      "delete ssp\n"
     ]
    }
   ],
   "source": [
    "print(\"\\ndelete ssp\")\n",
    "test_db.delete_ssp_by_pk(ret0[0][0])"
   ]
  },
  {
   "cell_type": "code",
   "execution_count": 15,
   "metadata": {
    "collapsed": false
   },
   "outputs": [
    {
     "name": "stderr",
     "output_type": "stream",
     "text": [
      "INFO:hydroffice.ssp.ssp_db:retrieved 1 rows from ssp view\n",
      "INFO      hydroffice.ssp.ssp_db._get_all_ssp_view_rows:619 > retrieved 1 rows from ssp view\n"
     ]
    },
    {
     "name": "stdout",
     "output_type": "stream",
     "text": [
      "ssp view rows:\n",
      "   id            time stamp   longitude    latitude      sensor    type\n",
      "    1   2012-10-21 01:39:22 -155.092529   71.697770      XCTD-1    XCTD\n",
      "\n"
     ]
    }
   ],
   "source": [
    "# retrieve printable ssp view rows\n",
    "ret0 = test_db.get_printable_ssp_view()\n",
    "print(\"ssp view rows:\\n%s\" % ret0)"
   ]
  },
  {
   "cell_type": "markdown",
   "metadata": {},
   "source": [
    "### Convert SSP view to OGR"
   ]
  },
  {
   "cell_type": "code",
   "execution_count": 18,
   "metadata": {
    "collapsed": false,
    "scrolled": true
   },
   "outputs": [
    {
     "name": "stderr",
     "output_type": "stream",
     "text": [
      "DEBUG:hydroffice.base.gdal_aux:gdal version: 1110200\n",
      "DEBUG     hydroffice.base.gdal_aux.__init__:68 > gdal version: 1110200\n",
      "INFO:hydroffice.ssp.ssp_db:retrieved 1 rows from ssp view\n",
      "INFO      hydroffice.ssp.ssp_db._get_all_ssp_view_rows:619 > retrieved 1 rows from ssp view\n",
      "DEBUG:hydroffice.base.gdal_aux:gdal version: 1110200\n",
      "DEBUG     hydroffice.base.gdal_aux.__init__:68 > gdal version: 1110200\n",
      "INFO:hydroffice.ssp.ssp_db:retrieved 1 rows from ssp view\n",
      "INFO      hydroffice.ssp.ssp_db._get_all_ssp_view_rows:619 > retrieved 1 rows from ssp view\n",
      "DEBUG:hydroffice.base.gdal_aux:gdal version: 1110200\n",
      "DEBUG     hydroffice.base.gdal_aux.__init__:68 > gdal version: 1110200\n",
      "INFO:hydroffice.ssp.ssp_db:retrieved 1 rows from ssp view\n",
      "INFO      hydroffice.ssp.ssp_db._get_all_ssp_view_rows:619 > retrieved 1 rows from ssp view\n"
     ]
    },
    {
     "data": {
      "text/plain": [
       "True"
      ]
     },
     "execution_count": 18,
     "metadata": {},
     "output_type": "execute_result"
    }
   ],
   "source": [
    "from hydroffice.base.gdal_aux import GdalAux\n",
    "\n",
    "test_db.convert_ssp_view_to_ogr()\n",
    "test_db.convert_ssp_view_to_ogr(GdalAux.ogr_formats[b'KML'])\n",
    "test_db.convert_ssp_view_to_ogr(GdalAux.ogr_formats[b'CSV'])"
   ]
  },
  {
   "cell_type": "markdown",
   "metadata": {},
   "source": [
    "### Plot the casts on a map"
   ]
  },
  {
   "cell_type": "code",
   "execution_count": 19,
   "metadata": {
    "collapsed": false
   },
   "outputs": [
    {
     "name": "stderr",
     "output_type": "stream",
     "text": [
      "INFO:hydroffice.ssp.ssp_db:retrieved 1 rows from ssp view\n",
      "INFO      hydroffice.ssp.ssp_db._get_all_ssp_view_rows:619 > retrieved 1 rows from ssp view\n",
      "INFO:hydroffice.ssp.ssp_db:data boundary: -155.0925, -155.0925 (0.0500) / 71.6978, 71.6978 (0.0500)\n",
      "INFO      hydroffice.ssp.ssp_db.map_ssp_view:783 > data boundary: -155.0925, -155.0925 (0.0500) / 71.6978, 71.6978 (0.0500)\n"
     ]
    }
   ],
   "source": [
    "test_db.map_ssp_view()"
   ]
  },
  {
   "cell_type": "markdown",
   "metadata": {},
   "source": [
    "### Create daily plots"
   ]
  },
  {
   "cell_type": "code",
   "execution_count": 20,
   "metadata": {
    "collapsed": false
   },
   "outputs": [
    {
     "name": "stderr",
     "output_type": "stream",
     "text": [
      "INFO:hydroffice.ssp.ssp_db:retrieved 1 timestamps from ssp view\n",
      "INFO      hydroffice.ssp.ssp_db._get_timestamp_list:836 > retrieved 1 timestamps from ssp view\n",
      "INFO:hydroffice.ssp.ssp_db:day: 0\n",
      "INFO      hydroffice.ssp.ssp_db.create_daily_plots:962 > day: 0\n",
      "INFO:hydroffice.ssp.ssp_db:get cleaned raw ssp by primary key: 1\n",
      "INFO      hydroffice.ssp.ssp_db.get_cleaned_raw_ssp_by_pk:849 > get cleaned raw ssp by primary key: 1\n",
      "INFO:hydroffice.ssp.ssp:resulting processed data size: (6, 1465)\n",
      "INFO      hydroffice.ssp.ssp.set_samples:120 > resulting processed data size: (6, 1465)\n"
     ]
    },
    {
     "name": "stdout",
     "output_type": "stream",
     "text": [
      "samples: 1465\n",
      "- Date Time: 2012-10-21 01:39:22\n",
      "- Position: -155.092529, 71.69777\n",
      "- Survey Name: default\n",
      "- Original Path: Z:\\_py\\__hyo_dev\\hyo_ssp\\hydroffice\\ssp\\samples\\sippican\\C3_00172.EDF\n",
      "- Sensor Type: 6\n",
      "- Source String: XCTD-1\n",
      "- Driver: SPC.0.2.0\n",
      "- Samples: (6, 1465)\n",
      "0.00 1444.88 1.76 25.75 0 0\n",
      "0.10 1447.77 1.84 27.67 0 0\n",
      "0.30 1448.23 1.89 27.85 0 0\n",
      "0.40 1448.98 1.91 28.35 0 0\n",
      "0.50 1449.36 1.93 28.57 0 0\n",
      ".... .... .... .... ....\n",
      "199.00 1435.22 -1.05 25.93 0 0\n",
      "\n"
     ]
    }
   ],
   "source": [
    "test_db.create_daily_plots()"
   ]
  },
  {
   "cell_type": "markdown",
   "metadata": {},
   "source": [
    "### Close (and delete) the database"
   ]
  },
  {
   "cell_type": "code",
   "execution_count": 22,
   "metadata": {
    "collapsed": false
   },
   "outputs": [
    {
     "name": "stderr",
     "output_type": "stream",
     "text": [
      "INFO:hydroffice.base.base_objects:Disconnected\n",
      "INFO      hydroffice.base.base_objects.disconnect:164 > Disconnected\n"
     ]
    },
    {
     "name": "stdout",
     "output_type": "stream",
     "text": [
      "\n",
      "close db\n"
     ]
    }
   ],
   "source": [
    "print(\"\\nclose db\")\n",
    "test_db.close()\n",
    "os.remove(db_file)"
   ]
  },
  {
   "cell_type": "markdown",
   "metadata": {},
   "source": [
    "-----------"
   ]
  }
 ],
 "metadata": {
  "kernelspec": {
   "display_name": "Python 2",
   "language": "python",
   "name": "python2"
  },
  "language_info": {
   "codemirror_mode": {
    "name": "ipython",
    "version": 2
   },
   "file_extension": ".py",
   "mimetype": "text/x-python",
   "name": "python",
   "nbconvert_exporter": "python",
   "pygments_lexer": "ipython2",
   "version": "2.7.10"
  }
 },
 "nbformat": 4,
 "nbformat_minor": 0
}
