{
 "cells": [
  {
   "cell_type": "markdown",
   "metadata": {},
   "source": [
    "# hydroffice.ssp.ssp_db\n",
    "\n"
   ]
  },
  {
   "cell_type": "code",
   "execution_count": 5,
   "metadata": {
    "collapsed": false
   },
   "outputs": [],
   "source": [
    "from hydroffice.ssp.ssp_db import SspDb"
   ]
  },
  {
   "cell_type": "markdown",
   "metadata": {},
   "source": [
    "## Set the logging"
   ]
  },
  {
   "cell_type": "code",
   "execution_count": 1,
   "metadata": {
    "collapsed": true
   },
   "outputs": [],
   "source": [
    "import logging\n",
    "\n",
    "logger = logging.getLogger()\n",
    "logger.setLevel(logging.NOTSET)\n",
    "ch = logging.StreamHandler()\n",
    "ch.setLevel(logging.DEBUG)  # change to WARNING to reduce verbosity, DEBUG for high verbosity\n",
    "ch_formatter = logging.Formatter('%(levelname)-9s %(name)s.%(funcName)s:%(lineno)d > %(message)s')\n",
    "ch.setFormatter(ch_formatter)\n",
    "logger.addHandler(ch)"
   ]
  },
  {
   "cell_type": "markdown",
   "metadata": {},
   "source": [
    "## SspDb\n",
    "\n",
    "### Create a SSP DB and populate with a SSP Collection"
   ]
  },
  {
   "cell_type": "code",
   "execution_count": null,
   "metadata": {
    "collapsed": true
   },
   "outputs": [],
   "source": [
    "# Read a profile\n",
    "\n",
    "from hydroffice.ssp.cast_reader import CastReader\n",
    "from hydroffice.ssp.helper import Helper\n",
    "from hydroffice.ssp.ssp_dicts import Dicts\n",
    "\n",
    "rdr = CastReader()\n",
    "test_file = os.path.join(Helper.get_samples_folder(), \"sippican\", \"C3_00172.EDF\")\n",
    "rdr.read_cast(test_file, Dicts.import_formats[\"SIPPICAN\"])\n"
   ]
  },
  {
   "cell_type": "code",
   "execution_count": null,
   "metadata": {
    "collapsed": true
   },
   "outputs": [],
   "source": [
    "import os\n",
    "\n",
    "\n",
    "from ..ssp_dicts import Dicts\n",
    "from ...base.gdal_aux import GdalAux\n",
    "\n",
    "here = os.path.abspath(os.path.dirname(__file__))\n",
    "test_db = SspDb(db_path=os.path.join(here, \"tmp\", \"test.db\"))\n",
    "# ret0 = test_db.add_casts(rdr.casts)\n",
    "# print(\"added cast: %s\" % ret0)\n",
    "\n",
    "ret0 = test_db.list_all_ssp_pks()\n",
    "print(len(ret0))\n",
    "\n",
    "ret0 = test_db.list_ssp_pks_by_survey_name()\n",
    "print(len(ret0))\n",
    "\n",
    "# if len(ret0) > 0:\n",
    "#     ssp_data = test_db.get_ssp_by_pk(ret0[0][0])\n",
    "#     print(ssp_data)\n",
    "#\n",
    "# print(\"\\ntotal ssp rows: %s\" % test_db.check_table_total_rows('ssp', True))\n",
    "# test_db.check_table_cols_settings('ssp', True)\n",
    "# test_db.check_tables_values_in_cols('ssp', True)\n",
    "\n",
    "# print(\"\\ndelete ssp\")\n",
    "# test_db.delete_ssp_by_pk(ret0[0][0])\n",
    "\n",
    "# retrieve printable ssp view rows\n",
    "ret0 = test_db.get_printable_ssp_view()\n",
    "print(\"ssp view rows:\\n%s\" % ret0)\n",
    "\n",
    "# # convert ssp view to ogr\n",
    "# test_db.convert_ssp_view_to_ogr()\n",
    "# test_db.convert_ssp_view_to_ogr(GdalAux.ogr_formats[b'KML'])\n",
    "# test_db.convert_ssp_view_to_ogr(GdalAux.ogr_formats[b'CSV'])\n",
    "\n",
    "#test_db.map_ssp_view()\n",
    "\n",
    "test_db.create_daily_plots()\n",
    "\n",
    "# close db\n",
    "print(\"\\nclose db\")\n",
    "test_db.close()\n"
   ]
  }
 ],
 "metadata": {
  "kernelspec": {
   "display_name": "Python 2",
   "language": "python",
   "name": "python2"
  },
  "language_info": {
   "codemirror_mode": {
    "name": "ipython",
    "version": 2
   },
   "file_extension": ".py",
   "mimetype": "text/x-python",
   "name": "python",
   "nbconvert_exporter": "python",
   "pygments_lexer": "ipython2",
   "version": "2.7.10"
  }
 },
 "nbformat": 4,
 "nbformat_minor": 0
}
